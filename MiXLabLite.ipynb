{
  "nbformat": 4,
  "nbformat_minor": 0,
  "metadata": {
    "colab": {
      "name": "MiXLabLite.ipynb",
      "provenance": [],
      "collapsed_sections": [
        "21-Wb8ywqQeJ",
        "fuan2y-JnwWl",
        "GaegjvHPPW9q"
      ],
      "toc_visible": true,
      "authorship_tag": "ABX9TyPCXOtkmMnsStkTj6cH0+/4",
      "include_colab_link": true
    },
    "kernelspec": {
      "name": "python3",
      "display_name": "Python 3"
    }
  },
  "cells": [
    {
      "cell_type": "markdown",
      "metadata": {
        "id": "view-in-github",
        "colab_type": "text"
      },
      "source": [
        "<a href=\"https://colab.research.google.com/github/shirooo39/MiXLab/blob/master/MiXLabLite.ipynb\" target=\"_parent\"><img src=\"https://colab.research.google.com/assets/colab-badge.svg\" alt=\"Open In Colab\"/></a>"
      ]
    },
    {
      "cell_type": "markdown",
      "metadata": {
        "id": "HSl5s0SFmein"
      },
      "source": [
        "<a href=\"https://github.com/shirooo39/MiXLab\" target=\"_blank\">\r\n",
        "<img src=\"https://github.com/fluidicon.png\" height=\"100px\" align=\"left\"></a>\r\n",
        "\r\n",
        "# <font size=6><center>**Welcome to <font color=1DA261>Mi</font><font color=FFCf4C>XL</font><font color=4789F4>ab</font> Lite**</center></font>\r\n",
        "\r\n",
        "<font size=4><center>This Notebook is a stripped down version of <a href=\"https://colab.research.google.com/github/shirooo39/MiXLab/blob/master/MiXLab.ipynb\" target=\"_blank\">MixLab</a>.</center></font>"
      ]
    },
    {
      "cell_type": "markdown",
      "metadata": {
        "id": "21-Wb8ywqQeJ"
      },
      "source": [
        "# <font size=6><center>✦ *Colab Stay Alive* ✦</center></font>\r\n",
        "---"
      ]
    },
    {
      "cell_type": "code",
      "metadata": {
        "id": "nYEj5CeCqbTY",
        "cellView": "form"
      },
      "source": [
        "# ============================= FORM ============================= #\n",
        "# @markdown <font size=5>← [Start] Colab Stay Alive</font>\n",
        "# @markdown This cell runs a JS code that will automatically press the reconnect button when you got disconnected due to idle.\n",
        "# ================================================================ #\n",
        "\n",
        "import IPython\n",
        "from IPython.display import clear_output\n",
        "from google.colab import output\n",
        "\n",
        "display(IPython.display.Javascript('''\n",
        " function ClickConnect(){\n",
        "   btn = document.querySelector(\"colab-connect-button\")\n",
        "   if (btn != null){\n",
        "     console.log(\"Clicked on the connect button\"); \n",
        "     btn.click() \n",
        "     }\n",
        "   \n",
        "   btn = document.getElementById('connect')\n",
        "   if (btn != null){\n",
        "     console.log(\"Clicked on the reconnect button\"); \n",
        "     btn.click() \n",
        "     }\n",
        "  }\n",
        "  \n",
        "setInterval(ClickConnect,60000)\n",
        "'''))\n",
        "\n",
        "clear_output()"
      ],
      "execution_count": null,
      "outputs": []
    },
    {
      "cell_type": "markdown",
      "metadata": {
        "id": "fuan2y-JnwWl"
      },
      "source": [
        "# <font size=6><center>✦ *Mount/Unmount Google Drive* ✦</center></font>\n",
        "---\n"
      ]
    },
    {
      "cell_type": "code",
      "metadata": {
        "id": "LkGoo1n9PNgj",
        "cellView": "form"
      },
      "source": [
        "# ============================= FORM ============================= #\n",
        "# @markdown <h3>← Mount/Unmount Google Drive</h3>\n",
        "# @markdown <p>This cell will mount/unmount Google Drive to /content/drive/</p></br>\n",
        "MODE = \"MOUNT\" #@param [\"MOUNT\", \"UNMOUNT\"]\n",
        "# ================================================================ #\n",
        "\n",
        "from IPython.display import clear_output\n",
        "from google.colab import drive\n",
        "drive.mount._DEBUG = False\n",
        "if MODE == \"MOUNT\":\n",
        "  drive.mount('/content/drive', force_remount=True)\n",
        "elif MODE == \"UNMOUNT\":\n",
        "  try:\n",
        "    drive.flush_and_unmount()\n",
        "  except ValueError:\n",
        "    pass\n",
        "  get_ipython().system_raw(\"rm -rf /root/.config/Google/DriveFS\")\n",
        "\n",
        "clear_output()"
      ],
      "execution_count": null,
      "outputs": []
    },
    {
      "cell_type": "code",
      "metadata": {
        "id": "EgMPgxmrTCvF",
        "cellView": "form"
      },
      "source": [
        "# @markdown <h3>← Force re-mount Google Drive</h3>\n",
        "\n",
        "drive.mount(\"/content/drive\", force_remount=True)"
      ],
      "execution_count": null,
      "outputs": []
    },
    {
      "cell_type": "markdown",
      "metadata": {
        "id": "GaegjvHPPW9q"
      },
      "source": [
        "# <font size=6><center>✦ *qBittorrent* ✦</center></font>\n",
        "---\n"
      ]
    },
    {
      "cell_type": "code",
      "metadata": {
        "id": "Yk8cbx3EdKaK",
        "cellView": "form"
      },
      "source": [
        "# ============================= FORM ============================= #\n",
        "# @markdown <font size=5>← [Start] qBittorrent</font>\n",
        "#QBITTORRENT_VARIANT = \"official\" #@param [\"official\", \"unofficial\"]\n",
        "## @markdown ---\n",
        "## @markdown <p>qBittorrent Default Credential</p>\n",
        "## @markdown > Username: admin</br>Password: adminadmin\n",
        "## @markdown ---\n",
        "#USE_FREE_TOKEN = True  # @param {type:\"boolean\"}\n",
        "#TOKEN = \"\"  # @param {type:\"string\"}\n",
        "#PORT_FORWARD = \"localhost\" # @param [\"ngrok\", \"localhost\"]\n",
        "USE_FREE_TOKEN = True\n",
        "TOKEN = \"\"\n",
        "PORT_FORWARD = \"localhost\"\n",
        "# ================================================================ #\n",
        "\n",
        "import os, psutil, time, urllib.request\n",
        "from IPython.display import HTML, clear_output\n",
        "\n",
        "HOME = os.path.expanduser(\"~\")\n",
        "\n",
        "if not os.path.exists(f\"{HOME}/.ipython/mixlab.py\"):\n",
        "    hCode = \"https://raw.githubusercontent.com/shirooo39/\" \\\n",
        "                \"MiXLab/master/resources/mixlab.py\"\n",
        "    urllib.request.urlretrieve(hCode, f\"{HOME}/.ipython/mixlab.py\")\n",
        "\n",
        "from mixlab import (\n",
        "    checkAvailable,\n",
        "    loadingAn,\n",
        "    PortForward_wrapper,\n",
        "    runSh,\n",
        "    displayUrl,\n",
        "    findProcess\n",
        ")\n",
        "\n",
        "#Note: need to locate where the WebUI is extracted into and then remove it\n",
        "#      in order to use the proper WebUI for the Official or Unofficial version of qBittorrent\n",
        "#runSh(\"rm -f /etc/apt/sources.list.d/qbittorrent-team-ubuntu-qbittorrent-stable-bionic.list\")\n",
        "#runSh(\"rm -f /etc/apt/sources.list.d/qbittorrent-team-ubuntu-qbittorrent-stable-bionic.list.save\")\n",
        "#runSh(\"rm -f /etc/apt/sources.list.d/poplite-ubuntu-qbittorrent-enhanced-bionic.list\")\n",
        "#runSh(\"rm -f /etc/apt/sources.list.d/poplite-ubuntu-qbittorrent-enhanced-bionic.list.save\")\n",
        "#runSh(\"rm -f /usr/bin/qbittorrent\")\n",
        "#runSh(\"rm -f /usr/bin/qbittorrent-nox\")\n",
        "#runSh(\"sudo apt-get purge --auto-remove qbittorrent-nox \")\n",
        "#clear_output()\n",
        "\n",
        "def addUtils():\n",
        "    if not checkAvailable(\"/usr/local/sessionSettings\"):\n",
        "        runSh(\"mkdir -p -m 777 /usr/local/sessionSettings\")\n",
        "    if not checkAvailable(\"/content/upload.txt\"):\n",
        "        runSh(\"touch /content/upload.txt\")\n",
        "    if not checkAvailable(\"checkAptUpdate.txt\", userPath=True):\n",
        "        runSh(\"apt update -qq -y\")\n",
        "        runSh(\"apt-get install -y iputils-ping\")\n",
        "\n",
        "def configTimezone(auto=True):\n",
        "    if checkAvailable(\"timezone.txt\", userPath=True):\n",
        "        return\n",
        "    if not auto:\n",
        "        runSh(\"sudo dpkg-reconfigure tzdata\")\n",
        "    else:\n",
        "        runSh(\"sudo ln -fs /usr/share/zoneinfo/Asia/Ho_Chi_Minh /etc/localtime\")\n",
        "        runSh(\"sudo dpkg-reconfigure -f noninteractive tzdata\")\n",
        "\n",
        "def uploadQBittorrentConfig():\n",
        "    if checkAvailable(\"updatedQBSettings.txt\", userPath=True):\n",
        "        return\n",
        "    runSh(\n",
        "        \"mkdir -p -m 666 /content/qBittorrent /root/.qBittorrent_temp /root/.config/qBittorrent\"\n",
        "    )\n",
        "    runSh(\n",
        "        \"wget -qq https://raw.githubusercontent.com/shirooo39/MiXLab/master/resources/configurations/qbittorrent/qBittorrent.conf \\\n",
        "            -O /root/.config/qBittorrent/qBittorrent.conf\"\n",
        "    )\n",
        "\n",
        "def prepareSession():\n",
        "    if checkAvailable(\"ready.txt\", userPath=True):\n",
        "        return\n",
        "    else:\n",
        "        addUtils()\n",
        "        configTimezone()\n",
        "        uploadQBittorrentConfig()\n",
        "\n",
        "def installQBittorrent():\n",
        "    if checkAvailable(\"/usr/bin/qbittorrent-nox\"):\n",
        "        return\n",
        "    else:\n",
        "#        if QBITTORRENT_VARIANT == \"official\":\n",
        "            try:\n",
        "#                if checkAvailable(\"/etc/apt/sources.list.d/poplite-ubuntu-qbittorrent-enhanced-bionic.list\"):\n",
        "#                    runSh(\"rm /etc/apt/sources.list.d/poplite-ubuntu-qbittorrent-enhanced-bionic.list\")\n",
        "#                elif checkAvailable(\"/etc/apt/sources.list.d/poplite-ubuntu-qbittorrent-enhanced-bionic.list.save\"):\n",
        "#                    runSh(\"rm /etc/apt/sources.list.d/poplite-ubuntu-qbittorrent-enhanced-bionic.list.save\")\n",
        "#                else:\n",
        "                    runSh(\"sudo add-apt-repository ppa:qbittorrent-team/qbittorrent-stable\")\n",
        "                    runSh(\"sudo apt-get update\")\n",
        "                    runSh(\"sudo apt install qbittorrent-nox\")\n",
        "            except:\n",
        "                raise Exception('Failed to install qBittorrent!')\n",
        "#        elif QBITTORRENT_VARIANT == \"unofficial\":\n",
        "#            try:\n",
        "#                if checkAvailable(\"/etc/apt/sources.list.d/qbittorrent-team-ubuntu-qbittorrent-stable-bionic.list\"):\n",
        "#                    runSh(\"rm /etc/apt/sources.list.d/qbittorrent-team-ubuntu-qbittorrent-stable-bionic.list\")\n",
        "#                elif checkAvailable(\"/etc/apt/sources.list.d/qbittorrent-team-ubuntu-qbittorrent-stable-bionic.list.save\"):\n",
        "#                    runSh(\"rm /etc/apt/sources.list.d/qbittorrent-team-ubuntu-qbittorrent-stable-bionic.list.save\")\n",
        "#                else:\n",
        "#                    runSh(\"sudo add-apt-repository ppa:poplite/qbittorrent-enhanced\")\n",
        "#                    runSh(\"sudo apt-get update\")\n",
        "#                    runSh(\"sudo apt-get install qbittorrent-enhanced qbittorrent-enhanced-nox\")\n",
        "#            except:\n",
        "#                raise Exception('Failed to install qBittorrent!')\n",
        "\n",
        "def startQBService():\n",
        "    prepareSession()\n",
        "    installQBittorrent()\n",
        "    if not findProcess(\"qbittorrent-nox\", \"-d --webui-port\"):\n",
        "        runSh(f\"qbittorrent-nox -d --webui-port={QB_Port}\")\n",
        "        time.sleep(1)\n",
        "\n",
        "QB_Port = 10001\n",
        "loadingAn()\n",
        "startQBService()\n",
        "\n",
        "clear_output()\n",
        "\n",
        "server = PortForward_wrapper(PORT_FORWARD, TOKEN, USE_FREE_TOKEN, [['qbittorrent', QB_Port, 'http']], 'sa', [f\"{HOME}/.ngrok2/qbittorrent.yml\", 4088]).start('qbittorrent', displayB=False)\n",
        "displayUrl(server, pNamU='qBittorrent : ')"
      ],
      "execution_count": null,
      "outputs": []
    }
  ]
}